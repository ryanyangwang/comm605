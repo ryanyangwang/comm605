{
  "cells": [
    {
      "cell_type": "raw",
      "metadata": {},
      "source": [
        "---\n",
        "title: \"Week 3: Overview of social media and computational communication research\"\n",
        "author: \n",
        "    - name: \"Ryan Y. Wang, Ph.D.\"\n",
        "      email: ryanwang@rit.mail.edu\n",
        "      affiliation: School of Communication, Rochester Institute of Technology\n",
        "format: \n",
        "  revealjs:\n",
        "    theme: solarized\n",
        "    logo: /image/rit.png\n",
        "    footer: \"COMM 605: Week 3\"\n",
        "    chalkboard: true\n",
        "    src: drawings.json\n",
        "---"
      ],
      "id": "5c3268c5"
    },
    {
      "cell_type": "markdown",
      "metadata": {},
      "source": [
        "```{css, echo=FALSE}\n",
        ".title {\n",
        "  font-size: 100px;\n",
        "  color: blue;\n",
        "  font-family: Arial;\n",
        "  font-variant: small-caps;\n",
        "}\n",
        "```\n",
        "\n",
        "\n",
        "# First slide"
      ],
      "id": "f5fed4fa"
    }
  ],
  "metadata": {
    "kernelspec": {
      "name": "python3",
      "language": "python",
      "display_name": "Python 3"
    }
  },
  "nbformat": 4,
  "nbformat_minor": 5
}